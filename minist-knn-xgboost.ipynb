{
 "cells": [
  {
   "cell_type": "code",
   "execution_count": 1,
   "id": "d4d7d512",
   "metadata": {
    "_cell_guid": "f5a7556f-ac73-42df-81d4-6e29a7fa2748",
    "_uuid": "84e32652-f7f9-43ca-a0e1-5df80f4b944d",
    "collapsed": false,
    "execution": {
     "iopub.execute_input": "2021-12-02T14:57:09.495592Z",
     "iopub.status.busy": "2021-12-02T14:57:09.493214Z",
     "iopub.status.idle": "2021-12-02T14:57:11.870950Z",
     "shell.execute_reply": "2021-12-02T14:57:11.869324Z"
    },
    "jupyter": {
     "outputs_hidden": false
    },
    "papermill": {
     "duration": 2.469617,
     "end_time": "2021-12-02T14:57:11.871109",
     "exception": false,
     "start_time": "2021-12-02T14:57:09.401492",
     "status": "completed"
    },
    "tags": []
   },
   "outputs": [],
   "source": [
    "# Load the MNIST digit recognition dataset into R\n",
    "# http://yann.lecun.com/exdb/mnist/\n",
    "# assume you have all 4 files and gunzip'd them\n",
    "# creates train$n, train$x, train$y  and test$n, test$x, test$y\n",
    "# e.g. train$x is a 60000 x 784 matrix, each row is one digit (28x28)\n",
    "# call:  show_digit(train$x[5,])   to see a digit.\n",
    "# brendan o'connor - gist.github.com/39760 - anyall.org\n",
    "load_mnist <- function() {\n",
    "  load_image_file <- function(filename) {\n",
    "    ret = list()\n",
    "    f = file(filename,'rb')\n",
    "    readBin(f,'integer',n=1,size=4,endian='big')\n",
    "    ret$n = readBin(f,'integer',n=1,size=4,endian='big')\n",
    "    nrow = readBin(f,'integer',n=1,size=4,endian='big')\n",
    "    ncol = readBin(f,'integer',n=1,size=4,endian='big')\n",
    "    x = readBin(f,'integer',n=ret$n*nrow*ncol,size=1,signed=F)\n",
    "    ret$x = matrix(x, ncol=nrow*ncol, byrow=T)\n",
    "    close(f)\n",
    "    ret\n",
    "  }\n",
    "  load_label_file <- function(filename) {\n",
    "    f = file(filename,'rb')\n",
    "    readBin(f,'integer',n=1,size=4,endian='big')\n",
    "    n = readBin(f,'integer',n=1,size=4,endian='big')\n",
    "    y = readBin(f,'integer',n=n,size=1,signed=F)\n",
    "    close(f)\n",
    "    y\n",
    "  }\n",
    "  train <<- load_image_file('../input/ministdata/train-images-idx3-ubyte')\n",
    "  test <<- load_image_file('../input/ministdata/t10k-images-idx3-ubyte')\n",
    "  \n",
    "  train$y <<- load_label_file('../input/ministdata/train-labels-idx1-ubyte')\n",
    "  test$y <<- load_label_file('../input/ministdata/t10k-labels-idx1-ubyte')  \n",
    "}\n",
    "\n",
    "show_digit <- function(arr784, col=gray(12:1/12), ...) {\n",
    "  image(matrix(arr784, nrow=28)[,28:1], col=col, ...)\n",
    "}\n",
    "\n",
    "# load data\n",
    "load_mnist()"
   ]
  },
  {
   "cell_type": "markdown",
   "id": "d4bbfd9a",
   "metadata": {
    "_cell_guid": "f710ec94-ccff-4778-9711-d9464bac7644",
    "_uuid": "11c5450b-3e3f-4572-8d22-102f188790cd",
    "papermill": {
     "duration": 0.082559,
     "end_time": "2021-12-02T14:57:12.039400",
     "exception": false,
     "start_time": "2021-12-02T14:57:11.956841",
     "status": "completed"
    },
    "tags": []
   },
   "source": [
    "# DATA EXPLORATION AND PREPARATION"
   ]
  },
  {
   "cell_type": "code",
   "execution_count": 2,
   "id": "2c27a3e4",
   "metadata": {
    "_cell_guid": "5d2e30d2-1290-4fbe-936d-2805c89f3075",
    "_uuid": "4c95a856-8153-4ba8-a48b-6e215861aacb",
    "collapsed": false,
    "execution": {
     "iopub.execute_input": "2021-12-02T14:57:12.220692Z",
     "iopub.status.busy": "2021-12-02T14:57:12.194271Z",
     "iopub.status.idle": "2021-12-02T14:57:12.440747Z",
     "shell.execute_reply": "2021-12-02T14:57:12.441267Z"
    },
    "jupyter": {
     "outputs_hidden": false
    },
    "papermill": {
     "duration": 0.32739,
     "end_time": "2021-12-02T14:57:12.441431",
     "exception": false,
     "start_time": "2021-12-02T14:57:12.114041",
     "status": "completed"
    },
    "tags": []
   },
   "outputs": [
    {
     "data": {
      "image/png": "[encoded data removed]"
     },
     "metadata": {
      "image/png": {
       "height": 420,
       "width": 420
      }
     },
     "output_type": "display_data"
    }
   ],
   "source": [
    "# plot to show the first nine rows in the trian set\n",
    "par(mfrow = c(3,3))\n",
    "for (i in 1:9){show_digit(train$x[i,])}"
   ]
  },
  {
   "cell_type": "code",
   "execution_count": 3,
   "id": "33375f2f",
   "metadata": {
    "_cell_guid": "b79bc6b7-5947-478e-a53f-197dd63f8159",
    "_uuid": "f16f2453-09c5-4386-afa7-5425da598b43",
    "collapsed": false,
    "execution": {
     "iopub.execute_input": "2021-12-02T14:57:12.607313Z",
     "iopub.status.busy": "2021-12-02T14:57:12.605636Z",
     "iopub.status.idle": "2021-12-02T14:57:12.996004Z",
     "shell.execute_reply": "2021-12-02T14:57:12.994621Z"
    },
    "jupyter": {
     "outputs_hidden": false
    },
    "papermill": {
     "duration": 0.470433,
     "end_time": "2021-12-02T14:57:12.996144",
     "exception": false,
     "start_time": "2021-12-02T14:57:12.525711",
     "status": "completed"
    },
    "tags": []
   },
   "outputs": [],
   "source": [
    "# scalining training set and testing set\n",
    "train_x <- train$x/255\n",
    "test_x <- test$x/255\n",
    "test_y <- test$y\n",
    "train_y <- train$y"
   ]
  },
  {
   "cell_type": "code",
   "execution_count": 4,
   "id": "f34b6305",
   "metadata": {
    "_cell_guid": "c473cd1b-005e-49a1-9060-42724ea9ae93",
    "_uuid": "76dc8e96-b637-47e6-abe6-114956ddd08b",
    "collapsed": false,
    "execution": {
     "iopub.execute_input": "2021-12-02T14:57:13.153070Z",
     "iopub.status.busy": "2021-12-02T14:57:13.151317Z",
     "iopub.status.idle": "2021-12-02T14:57:13.468781Z",
     "shell.execute_reply": "2021-12-02T14:57:13.467271Z"
    },
    "jupyter": {
     "outputs_hidden": false
    },
    "papermill": {
     "duration": 0.397084,
     "end_time": "2021-12-02T14:57:13.468941",
     "exception": false,
     "start_time": "2021-12-02T14:57:13.071857",
     "status": "completed"
    },
    "tags": []
   },
   "outputs": [
    {
     "data": {
      "text/html": [
       "0"
      ],
      "text/latex": [
       "0"
      ],
      "text/markdown": [
       "0"
      ],
      "text/plain": [
       "[1] 0"
      ]
     },
     "metadata": {},
     "output_type": "display_data"
    },
    {
     "data": {
      "text/html": [
       "0"
      ],
      "text/latex": [
       "0"
      ],
      "text/markdown": [
       "0"
      ],
      "text/plain": [
       "[1] 0"
      ]
     },
     "metadata": {},
     "output_type": "display_data"
    },
    {
     "data": {
      "text/html": [
       "0"
      ],
      "text/latex": [
       "0"
      ],
      "text/markdown": [
       "0"
      ],
      "text/plain": [
       "[1] 0"
      ]
     },
     "metadata": {},
     "output_type": "display_data"
    },
    {
     "data": {
      "text/html": [
       "0"
      ],
      "text/latex": [
       "0"
      ],
      "text/markdown": [
       "0"
      ],
      "text/plain": [
       "[1] 0"
      ]
     },
     "metadata": {},
     "output_type": "display_data"
    }
   ],
   "source": [
    "# Checking for missing values \n",
    "sum(is.na(train_x)) # indicates thata there is no missing value in the data\n",
    "sum(is.na(test_x)) # indicates that there is no missing values in the data\n",
    "sum(is.na(train_y))# indicates that there is no missing values in the data\n",
    "sum(is.na(test_y))# indicates that there is no missing values in the data"
   ]
  },
  {
   "cell_type": "code",
   "execution_count": 5,
   "id": "fa25a332",
   "metadata": {
    "_cell_guid": "5a39fe86-faa6-4449-b291-7c32dd8c4c30",
    "_uuid": "0b46a67d-52e8-4457-929f-e43944ce9579",
    "collapsed": false,
    "execution": {
     "iopub.execute_input": "2021-12-02T14:57:13.644963Z",
     "iopub.status.busy": "2021-12-02T14:57:13.643269Z",
     "iopub.status.idle": "2021-12-02T14:57:13.670450Z",
     "shell.execute_reply": "2021-12-02T14:57:13.669120Z"
    },
    "jupyter": {
     "outputs_hidden": false
    },
    "papermill": {
     "duration": 0.116809,
     "end_time": "2021-12-02T14:57:13.670566",
     "exception": false,
     "start_time": "2021-12-02T14:57:13.553757",
     "status": "completed"
    },
    "tags": []
   },
   "outputs": [
    {
     "data": {
      "text/plain": [
       "train_y\n",
       "   0    1    2    3    4    5    6    7    8    9 \n",
       "5923 6742 5958 6131 5842 5421 5918 6265 5851 5949 "
      ]
     },
     "metadata": {},
     "output_type": "display_data"
    },
    {
     "data": {
      "text/plain": [
       "test_y\n",
       "   0    1    2    3    4    5    6    7    8    9 \n",
       " 980 1135 1032 1010  982  892  958 1028  974 1009 "
      ]
     },
     "metadata": {},
     "output_type": "display_data"
    }
   ],
   "source": [
    "# Check for class imbalance\n",
    "table(train_y)\n",
    "table(test_y)"
   ]
  },
  {
   "cell_type": "code",
   "execution_count": 6,
   "id": "7a60be1d",
   "metadata": {
    "_cell_guid": "d4b82ee7-0e4d-4b3c-87f7-1b73deb449be",
    "_uuid": "e23bf638-9800-4844-ad69-4a80de353b1d",
    "collapsed": false,
    "execution": {
     "iopub.execute_input": "2021-12-02T14:57:13.853378Z",
     "iopub.status.busy": "2021-12-02T14:57:13.851569Z",
     "iopub.status.idle": "2021-12-02T14:57:15.754605Z",
     "shell.execute_reply": "2021-12-02T14:57:15.752982Z"
    },
    "jupyter": {
     "outputs_hidden": false
    },
    "papermill": {
     "duration": 1.995318,
     "end_time": "2021-12-02T14:57:15.754738",
     "exception": false,
     "start_time": "2021-12-02T14:57:13.759420",
     "status": "completed"
    },
    "tags": []
   },
   "outputs": [
    {
     "name": "stderr",
     "output_type": "stream",
     "text": [
      "Loading required package: lattice\n",
      "\n"
     ]
    },
    {
     "name": "stderr",
     "output_type": "stream",
     "text": [
      "Loading required package: ggplot2\n",
      "\n"
     ]
    },
    {
     "name": "stderr",
     "output_type": "stream",
     "text": [
      "\n",
      "Attaching package: ‘caret’\n",
      "\n",
      "\n"
     ]
    },
    {
     "name": "stderr",
     "output_type": "stream",
     "text": [
      "The following object is masked from ‘package:httr’:\n",
      "\n",
      "    progress\n",
      "\n",
      "\n"
     ]
    }
   ],
   "source": [
    "# Install Libraries\n",
    "library(caret)\n",
    "library(class)\n",
    "library(ggplot2)\n",
    "library(caTools)"
   ]
  },
  {
   "cell_type": "markdown",
   "id": "f4ab5bc8",
   "metadata": {
    "_cell_guid": "202de189-4b4f-4332-a76a-9c67cc148b5a",
    "_uuid": "532a3d66-9840-429e-9a27-bdf02d13c71d",
    "papermill": {
     "duration": 0.091779,
     "end_time": "2021-12-02T14:57:15.937697",
     "exception": false,
     "start_time": "2021-12-02T14:57:15.845918",
     "status": "completed"
    },
    "tags": []
   },
   "source": [
    "# KNN  MODEL BEFORE PCA"
   ]
  },
  {
   "cell_type": "code",
   "execution_count": null,
   "id": "a2aecb3c",
   "metadata": {
    "_cell_guid": "1970f73c-bc69-4165-8434-86928accc66f",
    "_uuid": "b63d3208-0f6b-46ca-ba3c-dafef2c76ad1",
    "collapsed": false,
    "jupyter": {
     "outputs_hidden": false
    },
    "papermill": {
     "duration": null,
     "end_time": null,
     "exception": false,
     "start_time": "2021-12-02T14:57:16.031435",
     "status": "running"
    },
    "tags": []
   },
   "outputs": [],
   "source": [
    "# KNN without PCA model 1 (k=240)\n",
    "knn.model <- knn(train = train_x, test = test_x, cl = train_y, k = 240)\n",
    "knn.model"
   ]
  },
  {
   "cell_type": "code",
   "execution_count": null,
   "id": "6b16d5ea",
   "metadata": {
    "_cell_guid": "ebb233fa-a3bf-4976-aa4f-75469e465160",
    "_uuid": "b8d21c42-481c-4497-a54d-b61bfba8a3b0",
    "collapsed": false,
    "jupyter": {
     "outputs_hidden": false
    },
    "papermill": {
     "duration": null,
     "end_time": null,
     "exception": null,
     "start_time": null,
     "status": "pending"
    },
    "tags": []
   },
   "outputs": [],
   "source": [
    "# Confusion matrix for KNN without PCA model 1\n",
    "confusionMatrix(data = as.factor(test_y), reference = knn.model )"
   ]
  },
  {
   "cell_type": "code",
   "execution_count": null,
   "id": "c61bf3b3",
   "metadata": {
    "_cell_guid": "cf76ffdf-ac7e-47ab-99a2-375138101f97",
    "_uuid": "c5733603-0947-473c-a0b3-d309670c0f97",
    "collapsed": false,
    "jupyter": {
     "outputs_hidden": false
    },
    "papermill": {
     "duration": null,
     "end_time": null,
     "exception": null,
     "start_time": null,
     "status": "pending"
    },
    "tags": []
   },
   "outputs": [],
   "source": [
    "# KNN without PCA model 2 (k=235)\n",
    "knn.model <- knn(train = train_x, test = test_x, cl = train_y, k = 235)\n",
    "knn.model"
   ]
  },
  {
   "cell_type": "code",
   "execution_count": null,
   "id": "ad00bbb8",
   "metadata": {
    "_cell_guid": "d62a7a8a-11b7-4e15-a6fd-287ee591804c",
    "_uuid": "72d1ee01-3ad3-4d07-b017-57c1b0ddcf49",
    "collapsed": false,
    "jupyter": {
     "outputs_hidden": false
    },
    "papermill": {
     "duration": null,
     "end_time": null,
     "exception": null,
     "start_time": null,
     "status": "pending"
    },
    "tags": []
   },
   "outputs": [],
   "source": [
    "# Confusion matrix for KNN without PCA model 2\n",
    "confusionMatrix(data = as.factor(test_y), reference = knn.model )"
   ]
  },
  {
   "cell_type": "markdown",
   "id": "ee7fb594",
   "metadata": {
    "_cell_guid": "50606ae2-e9c1-443f-a3ea-d80eda177dad",
    "_uuid": "9425fefe-9b8a-4292-8d24-483630d2b7ea",
    "papermill": {
     "duration": null,
     "end_time": null,
     "exception": null,
     "start_time": null,
     "status": "pending"
    },
    "tags": []
   },
   "source": [
    "# XGBOOST MODEL BEFORE PCA"
   ]
  },
  {
   "cell_type": "code",
   "execution_count": null,
   "id": "e2b554b4",
   "metadata": {
    "_cell_guid": "d619fecb-6d7d-4bcc-9865-99f3adffe706",
    "_uuid": "d8c34d5b-fb27-4799-843e-2bcb31904df9",
    "collapsed": false,
    "jupyter": {
     "outputs_hidden": false
    },
    "papermill": {
     "duration": null,
     "end_time": null,
     "exception": null,
     "start_time": null,
     "status": "pending"
    },
    "tags": []
   },
   "outputs": [],
   "source": [
    "# XGB before PCA \n",
    "xgb <- xgboost(data = data.matrix(train_x), \n",
    " label = train_y,\n",
    " eta = 0.1,\n",
    " max_depth = 15, \n",
    " nround=95, \n",
    " subsample = 0.5,\n",
    " colsample_bytree = 0.5,\n",
    " seed = 1,\n",
    " eval_metric = \"merror\",\n",
    " objective = \"multi:softmax\",\n",
    " num_class = 12,\n",
    " nthread = 3\n",
    ")\n",
    "\n",
    "# Predict using the xgb model \n",
    "y_pred <- predict(xgb, data.matrix(test_x))\n",
    "\n",
    "#Get the confusion matrix to see accuracy value and other parameter values\n",
    "confusionMatrix(as.factor(y_pred), as.factor(test_y))\n",
    "\n",
    "# Accuracy score  \n",
    "mean(y_pred == test_y)"
   ]
  },
  {
   "cell_type": "markdown",
   "id": "830c9970",
   "metadata": {
    "_cell_guid": "d579729c-eea1-42fd-9c8b-24e1380d11c9",
    "_uuid": "a1dadc27-9c9a-4de1-a688-eb3715d3ace1",
    "papermill": {
     "duration": null,
     "end_time": null,
     "exception": null,
     "start_time": null,
     "status": "pending"
    },
    "tags": []
   },
   "source": [
    "#  PRINCIPAL COMPONENT ANALYSIS (PCA)"
   ]
  },
  {
   "cell_type": "code",
   "execution_count": null,
   "id": "e6eb8669",
   "metadata": {
    "_cell_guid": "bc90c7ec-6a71-4a2a-a155-c27c73339ee7",
    "_uuid": "8d198a06-3a19-444d-b3eb-37f654695c25",
    "collapsed": false,
    "execution": {
     "iopub.execute_input": "2021-11-25T16:36:10.682975Z",
     "iopub.status.busy": "2021-11-25T16:36:10.681008Z",
     "iopub.status.idle": "2021-11-25T16:36:26.065713Z"
    },
    "jupyter": {
     "outputs_hidden": false
    },
    "papermill": {
     "duration": null,
     "end_time": null,
     "exception": null,
     "start_time": null,
     "status": "pending"
    },
    "tags": []
   },
   "outputs": [],
   "source": [
    "# PCA for training and testing set \n",
    "mypca_train<- prcomp(train_x,center=TRUE, scale = FALSE) # PCA for training set\n",
    "\n",
    "mypca_test<- prcomp(test_x,center=TRUE, scale = FALSE) # PCA for testing set"
   ]
  },
  {
   "cell_type": "code",
   "execution_count": null,
   "id": "cfb108cb",
   "metadata": {
    "_cell_guid": "bab97480-edb4-4959-8970-f7fe34ff4ec9",
    "_uuid": "04936e76-96d4-4687-9401-a8126ef38b81",
    "collapsed": false,
    "jupyter": {
     "outputs_hidden": false
    },
    "papermill": {
     "duration": null,
     "end_time": null,
     "exception": null,
     "start_time": null,
     "status": "pending"
    },
    "tags": []
   },
   "outputs": [],
   "source": [
    "# ggplot of the first and second principal component\n",
    "\n",
    "mnist <- as.data.frame(cbind(mypca_train$x[,1:2],train_y))\n",
    "mnist$train_y<-as.factor(mnist$train_y)\n",
    "head(mnist)\n",
    "\n",
    "ggplot(mnist, aes(PC1, PC2,col=train_y, fill=train_y))+geom_point(shape = 21, col='black')+xlab('PC1 10% of variance explianed')+ylab('PC2 7% of variance explianed')"
   ]
  },
  {
   "cell_type": "code",
   "execution_count": null,
   "id": "218145b0",
   "metadata": {
    "_cell_guid": "e79fb906-7b43-4976-9fe8-777d9e4f4ffe",
    "_uuid": "460cf4f0-02ec-4f15-a438-a5424fa4e716",
    "collapsed": false,
    "execution": {
     "iopub.execute_input": "2021-11-19T15:14:51.986352Z",
     "iopub.status.busy": "2021-11-19T15:14:51.98439Z",
     "iopub.status.idle": "2021-11-19T15:14:52.014696Z"
    },
    "jupyter": {
     "outputs_hidden": false
    },
    "papermill": {
     "duration": null,
     "end_time": null,
     "exception": null,
     "start_time": null,
     "status": "pending"
    },
    "tags": []
   },
   "outputs": [],
   "source": [
    "# Summary of PCA on training set\n",
    "summary(mypca_train)"
   ]
  },
  {
   "cell_type": "code",
   "execution_count": null,
   "id": "31fd9465",
   "metadata": {
    "_cell_guid": "dbeaec69-fd1a-4003-82f1-88ceb9521ba1",
    "_uuid": "2a760eb3-a5e0-494c-b54e-ef5f92c3730b",
    "collapsed": false,
    "execution": {
     "iopub.execute_input": "2021-11-25T15:53:49.870541Z",
     "iopub.status.busy": "2021-11-25T15:53:49.868181Z",
     "iopub.status.idle": "2021-11-25T15:53:50.188664Z"
    },
    "jupyter": {
     "outputs_hidden": false
    },
    "papermill": {
     "duration": null,
     "end_time": null,
     "exception": null,
     "start_time": null,
     "status": "pending"
    },
    "tags": []
   },
   "outputs": [],
   "source": [
    "#calculate total variance explained by each principal component\n",
    "var_explained = mypca_train$sdev^2 / sum(mypca_train$sdev^2)\n",
    "#create scree plot for the first 200 PCA\n",
    "qplot(c(1:200), var_explained[1:200]) + \n",
    "  geom_line() + \n",
    "  xlab(\"Principal Component\") + \n",
    "  ylab(\"Variance Explained\") +\n",
    "  ggtitle(\"Scree Plot\") +scale_x_continuous(breaks=seq(0,200,20))+scale_y_continuous(breaks=seq(0,0.2,0.01))"
   ]
  },
  {
   "cell_type": "code",
   "execution_count": null,
   "id": "f1dba183",
   "metadata": {
    "_cell_guid": "7b106310-1b9a-402c-b1c7-69159db62cc3",
    "_uuid": "180cfe07-e26b-4aff-9e72-e348168ce0ac",
    "collapsed": false,
    "execution": {
     "iopub.execute_input": "2021-11-25T15:53:50.193753Z",
     "iopub.status.busy": "2021-11-25T15:53:50.191817Z",
     "iopub.status.idle": "2021-11-25T15:53:50.418118Z"
    },
    "jupyter": {
     "outputs_hidden": false
    },
    "papermill": {
     "duration": null,
     "end_time": null,
     "exception": null,
     "start_time": null,
     "status": "pending"
    },
    "tags": []
   },
   "outputs": [],
   "source": [
    "#Cumulative proportion of variance explianed by the first 200 PCA \n",
    "qplot(c(1:200), cumsum(var_explained[1:200])) + \n",
    "  geom_line() + \n",
    "  xlab(\"Principal Component\") + \n",
    "  ylab(\"Cumulative Proportion of Variance Explained\") +\n",
    "  ggtitle(\"Scree Plot\") + scale_x_continuous(breaks=seq(0,200,20))+scale_y_continuous(breaks=seq(0,1,0.1))"
   ]
  },
  {
   "cell_type": "code",
   "execution_count": null,
   "id": "525c1e0a",
   "metadata": {
    "_cell_guid": "3a7b24c2-7c50-4bdc-866f-2c861627458d",
    "_uuid": "5156ba15-76e8-4aab-8f97-12502146f2b0",
    "collapsed": false,
    "execution": {
     "iopub.execute_input": "2021-11-25T15:53:50.423018Z",
     "iopub.status.busy": "2021-11-25T15:53:50.421241Z",
     "iopub.status.idle": "2021-11-25T15:53:57.451703Z"
    },
    "jupyter": {
     "outputs_hidden": false
    },
    "papermill": {
     "duration": null,
     "end_time": null,
     "exception": null,
     "start_time": null,
     "status": "pending"
    },
    "tags": []
   },
   "outputs": [],
   "source": [
    "# reconstruction of the train data with 12 principal component\n",
    "reconstruction_12PC = t(t(mypca_train$x[,1:12] %*% t(mypca_train$rotation[,1:12])) + mypca_train$center)\n",
    "# reconstruction of the train data with 45 principal component\n",
    "reconstruction_45PC = t(t(mypca_train$x[,1:45] %*%t(mypca_train$rotation[,1:45])) +mypca_train$center)"
   ]
  },
  {
   "cell_type": "code",
   "execution_count": null,
   "id": "591109b3",
   "metadata": {
    "_cell_guid": "3fa0bc92-9089-46d7-8e12-27eae989ff60",
    "_uuid": "578f99a8-70d5-44a3-a005-72abcae4c707",
    "collapsed": false,
    "jupyter": {
     "outputs_hidden": false
    },
    "papermill": {
     "duration": null,
     "end_time": null,
     "exception": null,
     "start_time": null,
     "status": "pending"
    },
    "tags": []
   },
   "outputs": [],
   "source": [
    "# Ploting the first four rows in the reconstruted data using 12 PCA\n",
    "par(mfrow = c(2,2))\n",
    "for (i in 1:4){show_digit(reconstruction_12PC[i,], main =\"12 Component\")}"
   ]
  },
  {
   "cell_type": "code",
   "execution_count": null,
   "id": "2258cbea",
   "metadata": {
    "_cell_guid": "b69f9e8a-4e3d-4978-8b4e-26edd10e0f9f",
    "_uuid": "fc12bedd-52f9-4cab-8791-ae6ad3bda8ed",
    "collapsed": false,
    "execution": {
     "iopub.execute_input": "2021-11-25T15:51:50.523903Z",
     "iopub.status.busy": "2021-11-25T15:51:50.522528Z",
     "iopub.status.idle": "2021-11-25T15:51:50.597346Z"
    },
    "jupyter": {
     "outputs_hidden": false
    },
    "papermill": {
     "duration": null,
     "end_time": null,
     "exception": null,
     "start_time": null,
     "status": "pending"
    },
    "tags": []
   },
   "outputs": [],
   "source": [
    "# Plotting the four rows in the reconstructed data using  45 PCA\n",
    "par(mfrow = c(2,2))\n",
    "for (i in 1:4){show_digit(reconstruction_45PC[i,], main =\"45 Component\")}"
   ]
  },
  {
   "cell_type": "code",
   "execution_count": null,
   "id": "28a8f6b8",
   "metadata": {
    "_cell_guid": "f4914b28-a89f-495e-b71a-067fd4f91b20",
    "_uuid": "0c2117c7-8877-456f-acbf-a361fd47b581",
    "collapsed": false,
    "execution": {
     "iopub.execute_input": "2021-11-25T11:09:25.243559Z",
     "iopub.status.busy": "2021-11-25T11:09:25.242238Z",
     "iopub.status.idle": "2021-11-25T11:09:27.811119Z"
    },
    "jupyter": {
     "outputs_hidden": false
    },
    "papermill": {
     "duration": null,
     "end_time": null,
     "exception": null,
     "start_time": null,
     "status": "pending"
    },
    "tags": []
   },
   "outputs": [],
   "source": [
    "# Plotting Principal component one and two\n",
    "plot(mypca_train$x, col=train_y, main = 'PC1 v PC2 by Label')"
   ]
  },
  {
   "cell_type": "code",
   "execution_count": null,
   "id": "869531fb",
   "metadata": {
    "_cell_guid": "918506a4-b176-4ac8-b1fb-cfa4ad891ffb",
    "_uuid": "87e6c534-7eb2-465a-8801-cf24836a58dd",
    "collapsed": false,
    "execution": {
     "iopub.execute_input": "2021-11-25T16:36:26.074754Z",
     "iopub.status.busy": "2021-11-25T16:36:26.071004Z",
     "iopub.status.idle": "2021-11-25T16:36:29.830164Z"
    },
    "jupyter": {
     "outputs_hidden": false
    },
    "papermill": {
     "duration": null,
     "end_time": null,
     "exception": null,
     "start_time": null,
     "status": "pending"
    },
    "tags": []
   },
   "outputs": [],
   "source": [
    "# Assigning new variable to principal component for train and test set\n",
    "train_new <- predict(mypca_train,train_x)\n",
    "test_new <- predict(mypca_train,test_x)"
   ]
  },
  {
   "cell_type": "markdown",
   "id": "39a30330",
   "metadata": {
    "_cell_guid": "dd4e58b4-c298-4e3a-89ce-0dd5adecf885",
    "_uuid": "2a64acba-d331-414c-9250-56636b1eca24",
    "papermill": {
     "duration": null,
     "end_time": null,
     "exception": null,
     "start_time": null,
     "status": "pending"
    },
    "tags": []
   },
   "source": [
    "# KNN  MODEL AFTER"
   ]
  },
  {
   "cell_type": "code",
   "execution_count": null,
   "id": "c3a07a11",
   "metadata": {
    "_cell_guid": "1257a79b-35a6-4f06-a1f3-acb046da40db",
    "_uuid": "bcb295d8-875f-421e-a2f1-f3ba4345f656",
    "collapsed": false,
    "execution": {
     "iopub.execute_input": "2021-11-25T16:36:46.126218Z",
     "iopub.status.busy": "2021-11-25T16:36:46.124824Z",
     "iopub.status.idle": "2021-11-25T17:14:07.151356Z"
    },
    "jupyter": {
     "outputs_hidden": false
    },
    "papermill": {
     "duration": null,
     "end_time": null,
     "exception": null,
     "start_time": null,
     "status": "pending"
    },
    "tags": []
   },
   "outputs": [],
   "source": [
    "# KNN algorithm with 12 PCA \n",
    "KNN.opt = c()\n",
    "KNN.tp = c()\n",
    "for (i in 3:250){\n",
    "    knn.model <- knn(train = train_new[,1:12], test = test_new[,1:12], cl = train_y, k = i)\n",
    "    KNN.opt[i]<- mean(knn.model == test_y)*100\n",
    "    KNN.tp[i]<-mean(knn.model!=test_y)*100\n",
    "    k=i\n",
    "    cat(k,\"=\",KNN.opt[i], '\\n')\n",
    "}\n",
    "\n",
    "# Plot the accuracy score for the various values of k using 12 PCA\n",
    "qplot(c(3:250),KNN.opt[3:250])+ geom_line()+geom_line() + xlab(\"K-value\") + ylab(\"Accuracy\")+scale_y_continuous(breaks=seq(90,95,0.2))+scale_x_continuous(breaks=seq(0,250,25))\n",
    "\n",
    "# Plot the error rate score for the various values of k using 12 PCA\n",
    "qplot(c(3:250),KNN.tp[3:250])+ geom_line()+geom_line() + xlab(\"K-value\") + ylab(\"Error rate\")+scale_y_continuous(breaks=seq(5,9,0.5))+scale_x_continuous(breaks=seq(0,250,25))"
   ]
  },
  {
   "cell_type": "code",
   "execution_count": null,
   "id": "26d15474",
   "metadata": {
    "_cell_guid": "0d56e663-0f63-48e9-955e-976745455ca4",
    "_uuid": "68849df6-122e-43a3-983e-e7c4fc0f4af8",
    "collapsed": false,
    "jupyter": {
     "outputs_hidden": false
    },
    "papermill": {
     "duration": null,
     "end_time": null,
     "exception": null,
     "start_time": null,
     "status": "pending"
    },
    "tags": []
   },
   "outputs": [],
   "source": [
    "#Get the confusion matrix to see accuracy value and other parameter values                                                                                 \n",
    "confusionMatrix(as.factor(knn.model), as.factor(test_y))\n",
    "# Accuracy score                                                                                 \n",
    "mean(knn.model == test_y)"
   ]
  },
  {
   "cell_type": "code",
   "execution_count": null,
   "id": "68fab6b3",
   "metadata": {
    "_cell_guid": "999d99b0-1c92-4cf2-acc1-3113af730263",
    "_uuid": "06194e38-7f6f-40bd-896f-6d69af649800",
    "collapsed": false,
    "execution": {
     "iopub.execute_input": "2021-11-25T17:14:07.475772Z",
     "iopub.status.busy": "2021-11-25T17:14:07.473954Z",
     "iopub.status.idle": "2021-11-25T19:55:31.777022Z"
    },
    "jupyter": {
     "outputs_hidden": false
    },
    "papermill": {
     "duration": null,
     "end_time": null,
     "exception": null,
     "start_time": null,
     "status": "pending"
    },
    "tags": []
   },
   "outputs": [],
   "source": [
    "# KNN algorithm with 45 PCA \n",
    "KNN.opt = 1\n",
    "KNN.tp = 1\n",
    "for (i in 3:250){\n",
    "    knn.model <- knn(train = train_new[,1:45], test = test_new[,1:45], cl = train_y, k = i)\n",
    "    KNN.opt[i]<- mean(knn.model == test_y)*100\n",
    "    KNN.tp[i]<-mean(knn.model!=test_y)*100\n",
    "    k=i\n",
    "    cat(k,\"=\",KNN.opt[i], '\\n')\n",
    "}\n",
    "# Plot the accuracy score for the various values of k using 45 PCA\n",
    "qplot(c(3:250),KNN.opt[3:250])+ geom_point() + xlab(\"K-value\") + ylab(\"Accuracy\")+scale_y_continuous(breaks=seq(90,100,0.2))+scale_x_continuous(breaks=seq(0,250,25))\n",
    "\n",
    "# Plot the error rate score for the various values of k using 45 PCA\n",
    "qplot(c(3:250),KNN.tp[3:250])+ geom_line()+geom_line() + xlab(\"K-value\") + ylab(\"Error rate\")+scale_y_continuous(breaks=seq(0,10,0.5))+scale_x_continuous(breaks=seq(0,250,25))"
   ]
  },
  {
   "cell_type": "code",
   "execution_count": null,
   "id": "b6b9fef4",
   "metadata": {
    "_cell_guid": "212219d1-bc92-4e88-b59e-bbf65667bc19",
    "_uuid": "14ac8b58-1e3f-4f12-a10f-1ae4751064f1",
    "collapsed": false,
    "jupyter": {
     "outputs_hidden": false
    },
    "papermill": {
     "duration": null,
     "end_time": null,
     "exception": null,
     "start_time": null,
     "status": "pending"
    },
    "tags": []
   },
   "outputs": [],
   "source": [
    "#Get the confusion matrix to see accuracy value and other parameter values                                                                                 \n",
    "confusionMatrix(as.factor(knn.model), as.factor(test_y))\n",
    "# Accuracy score  \n",
    "mean(knn.model == test_y)"
   ]
  },
  {
   "cell_type": "markdown",
   "id": "ae882a5f",
   "metadata": {
    "_cell_guid": "16d3082a-d7e7-4441-9687-ca28c8382f10",
    "_uuid": "188a60ac-8ea5-4211-9c48-3ae1a31f252c",
    "papermill": {
     "duration": null,
     "end_time": null,
     "exception": null,
     "start_time": null,
     "status": "pending"
    },
    "tags": []
   },
   "source": [
    "# XGBOOST MODEL AFTER PCA"
   ]
  },
  {
   "cell_type": "code",
   "execution_count": null,
   "id": "fccafb35",
   "metadata": {
    "_cell_guid": "e862ab33-5e18-4ded-b4d0-2427c452d0a9",
    "_uuid": "35a1cd82-c69d-4638-b4bb-9688f8cc5c59",
    "collapsed": false,
    "jupyter": {
     "outputs_hidden": false
    },
    "papermill": {
     "duration": null,
     "end_time": null,
     "exception": null,
     "start_time": null,
     "status": "pending"
    },
    "tags": []
   },
   "outputs": [],
   "source": [
    "# XGB AFTER PCA USING 12 COMPONENT\n",
    "xgb <- xgboost(data = data.matrix(train_new[,1:12]), \n",
    " label = train_y,\n",
    " eta = 0.1,\n",
    " max_depth = 15, \n",
    " nround=95, \n",
    " subsample = 0.5,\n",
    " colsample_bytree = 0.5,\n",
    " seed = 1,\n",
    " eval_metric = \"merror\",\n",
    " objective = \"multi:softmax\",\n",
    " num_class = 12,\n",
    " nthread = 3\n",
    ")\n",
    "y_pred_PCA <- predict(xgb, data.matrix(test_new[,1:12]))\n",
    "#Accuracy score\n",
    "mean(y_pred_PCA == test_y)*100\n",
    "\n",
    "#Confusion marix\n",
    "confusionMatrix(as.factor(y_pred_PCA), as.factor(test_y))"
   ]
  },
  {
   "cell_type": "code",
   "execution_count": null,
   "id": "628e4669",
   "metadata": {
    "_cell_guid": "041c64c8-e72f-48e1-99a8-a26331e32828",
    "_uuid": "48043dae-f375-4694-82d2-1bb60d01c5b3",
    "collapsed": false,
    "jupyter": {
     "outputs_hidden": false
    },
    "papermill": {
     "duration": null,
     "end_time": null,
     "exception": null,
     "start_time": null,
     "status": "pending"
    },
    "tags": []
   },
   "outputs": [],
   "source": [
    "# XGB AFTER PCA USING 45 COMPONENT\n",
    "xgb <- xgboost(data = data.matrix(train_new[,1:45]), \n",
    " label = train_y,\n",
    " eta = 0.1,\n",
    " max_depth = 15, \n",
    " nround=95, \n",
    " subsample = 0.5,\n",
    " colsample_bytree = 0.5,\n",
    " seed = 1,\n",
    " eval_metric = \"merror\",\n",
    " objective = \"multi:softmax\",\n",
    " num_class = 12,\n",
    " nthread = 3\n",
    ")\n",
    "y_pred_PCA <- predict(xgb, data.matrix(test_new[,1:45]))\n",
    "#Accuracy score \n",
    "mean(y_pred_PCA == test_y)*100\n",
    "#Confusion marix\n",
    "confusionMatrix(as.factor(y_pred_PCA), as.factor(test_y))"
   ]
  },
  {
   "cell_type": "code",
   "execution_count": null,
   "id": "83466274",
   "metadata": {
    "_cell_guid": "e1637b2b-400d-448d-90eb-42c4a43bb780",
    "_uuid": "d46d808c-9d36-43cc-85bd-84008da13622",
    "collapsed": false,
    "execution": {
     "iopub.execute_input": "2021-11-17T16:35:20.660107Z",
     "iopub.status.busy": "2021-11-17T16:35:20.658763Z",
     "iopub.status.idle": "2021-11-17T16:35:20.733358Z"
    },
    "jupyter": {
     "outputs_hidden": false
    },
    "papermill": {
     "duration": null,
     "end_time": null,
     "exception": null,
     "start_time": null,
     "status": "pending"
    },
    "tags": []
   },
   "outputs": [],
   "source": []
  }
 ],
 "metadata": {
  "kernelspec": {
   "display_name": "R",
   "language": "R",
   "name": "ir"
  },
  "language_info": {
   "codemirror_mode": "r",
   "file_extension": ".r",
   "mimetype": "text/x-r-source",
   "name": "R",
   "pygments_lexer": "r",
   "version": "4.0.5"
  },
  "papermill": {
   "default_parameters": {},
   "duration": null,
   "end_time": null,
   "environment_variables": {},
   "exception": null,
   "input_path": "__notebook__.ipynb",
   "output_path": "__notebook__.ipynb",
   "parameters": {},
   "start_time": "2021-12-02T14:57:06.539249",
   "version": "2.3.3"
  }
 },
 "nbformat": 4,
 "nbformat_minor": 5
}